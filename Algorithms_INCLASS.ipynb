{
 "cells": [
  {
   "cell_type": "markdown",
   "metadata": {},
   "source": [
    "# Algorithms, Binary Search & Linked Lists"
   ]
  },
  {
   "cell_type": "markdown",
   "metadata": {},
   "source": [
    "## Tasks Today:\n",
    " \n",
    "1) <b>In-Place Algorithms</b> <br>\n",
    " &nbsp;&nbsp;&nbsp;&nbsp; a) Syntax <br>\n",
    " &nbsp;&nbsp;&nbsp;&nbsp; a) Out of Place Algorithm <br>\n",
    " &nbsp;&nbsp;&nbsp;&nbsp; b) In-Class Exercise #1 <br>\n",
    "2) <b>Two Pointers</b> <br>\n",
    "3) <b>Linked Lists</b> <br>\n",
    "4) <b>Merge Sort</b> <br>\n",
    " &nbsp;&nbsp;&nbsp;&nbsp; a) Video on Algorithms <br>\n",
    " &nbsp;&nbsp;&nbsp;&nbsp; b) How it Works <br>\n",
    "5) <b>Exercises</b> <br>\n",
    " &nbsp;&nbsp;&nbsp;&nbsp; a) Exercise #1 - Reverse a List in Place Using an In-Place Algorithm <br>\n",
    " &nbsp;&nbsp;&nbsp;&nbsp; b) Exercise #2 - Find Distinct Words <br>\n",
    " &nbsp;&nbsp;&nbsp;&nbsp; c) Exercise #3 - Write a program to implement a Linear Search Algorithm. <br>"
   ]
  },
  {
   "cell_type": "markdown",
   "metadata": {},
   "source": [
    "## In-Place Algorithms"
   ]
  },
  {
   "cell_type": "markdown",
   "metadata": {},
   "source": [
    "#### Syntax"
   ]
  },
  {
   "cell_type": "code",
   "execution_count": 6,
   "metadata": {},
   "outputs": [
    {
     "name": "stdout",
     "output_type": "stream",
     "text": [
      "2284230541552\n",
      "2284230541584\n",
      "[1, 2, 3] before swap\n",
      "[3, 2, 1]\n",
      "[3, 2, 1] after swap\n",
      "2284300909568\n"
     ]
    }
   ],
   "source": [
    "a = 1\n",
    "print(id(a))\n",
    "a = 2\n",
    "print(id(a))\n",
    "\n",
    "def swap(a_list, x, y, z):\n",
    "    a_list[x], a_list[y], a_list[z] = a_list[z], a_list[y], a_list[x]\n",
    "    return a_list\n",
    "\n",
    "my_list = [1,2,3]\n",
    "print(f'{my_list} before swap')\n",
    "print(swap(my_list, 0, 1, 2))\n",
    "print(f'{my_list} after swap')\n",
    "print(id(my_list))"
   ]
  },
  {
   "cell_type": "markdown",
   "metadata": {},
   "source": [
    "#### Out of Place Algorithm"
   ]
  },
  {
   "cell_type": "code",
   "execution_count": 9,
   "metadata": {},
   "outputs": [
    {
     "name": "stdout",
     "output_type": "stream",
     "text": [
      "['f', 'e', 'd', 'c', 'b', 'a']\n",
      "['a', 'b', 'c', 'd', 'e', 'f']\n",
      "['f', 'e', 'd', 'c', 'b', 'a']\n"
     ]
    }
   ],
   "source": [
    "my_list = ['a', 'b', 'c', 'd', 'e', 'f']\n",
    "print(my_list[::-1])\n",
    "print(my_list)\n",
    "\n",
    "new_list = my_list[::-1]\n",
    "print(new_list)\n"
   ]
  },
  {
   "cell_type": "markdown",
   "metadata": {},
   "source": [
    "#### In-Class Exercise #1 <br>\n",
    "<p>Write a function that takes in four arguments (list, index1, index2, index3), and swaps those three positions in the list passed in.</p>"
   ]
  },
  {
   "cell_type": "code",
   "execution_count": 11,
   "metadata": {},
   "outputs": [
    {
     "name": "stdout",
     "output_type": "stream",
     "text": [
      "[10, 4, 3, 8, 4, 2, 6] before swap\n",
      "[3, 4, 10, 8, 4, 2, 6]\n",
      "[3, 4, 10, 8, 4, 2, 6] after swap\n"
     ]
    }
   ],
   "source": [
    "l_1 = [10, 4, 3, 8, 4, 2, 6]\n",
    "def swap(a_list, x, y, z):\n",
    "    a_list[x], a_list[y], a_list[z] = a_list[z], a_list[y], a_list[x]\n",
    "    return a_list\n",
    "\n",
    "print(f'{l_1} before swap')\n",
    "print(swap(l_1, 0, 1, 2))\n",
    "print(f'{l_1} after swap')\n"
   ]
  },
  {
   "cell_type": "markdown",
   "metadata": {},
   "source": [
    "## Two Pointers"
   ]
  },
  {
   "cell_type": "markdown",
   "metadata": {},
   "source": [
    "#### Syntax"
   ]
  },
  {
   "cell_type": "code",
   "execution_count": 14,
   "metadata": {},
   "outputs": [
    {
     "name": "stdout",
     "output_type": "stream",
     "text": [
      "[11, 10, 9, 8, 7, 6, 5, 4, 3, 2, 1]\n"
     ]
    }
   ],
   "source": [
    "test_list = [1,2,3,4,5,6,7,8,9,10,11]\n",
    "\n",
    "def two_pointer(a_list):\n",
    "    left = 0\n",
    "    right = len(a_list) - 1\n",
    "    while left <= right:\n",
    "        a_list[left], a_list[right] = a_list[right], a_list[left]\n",
    "        left += 1\n",
    "        right -= 1\n",
    "    return a_list\n",
    "\n",
    "print(two_pointer(test_list))"
   ]
  },
  {
   "cell_type": "markdown",
   "metadata": {},
   "source": [
    "#### Video of Algorithms <br>\n",
    "<p>Watch the video about algorithms.</p>\n",
    "\n",
    "https://www.youtube.com/watch?v=Q9HjeFD62Uk\n",
    "\n",
    "https://www.youtube.com/watch?v=kPRA0W1kECg\n",
    "\n",
    "https://www.youtube.com/watch?v=ZZuD6iUe3Pc"
   ]
  },
  {
   "cell_type": "markdown",
   "metadata": {},
   "source": [
    "# Sorting Algorithms"
   ]
  },
  {
   "cell_type": "markdown",
   "metadata": {},
   "source": [
    "#### Bubble Sort\n",
    "\n",
    "Worst Case: O(n^2) Time - O(1) Space"
   ]
  },
  {
   "cell_type": "code",
   "execution_count": 19,
   "metadata": {},
   "outputs": [
    {
     "name": "stdout",
     "output_type": "stream",
     "text": [
      "1\n",
      "[2, 7, 5, 12, 8, 9, 6]\n",
      "[2, 7, 5, 8, 12, 9, 6]\n",
      "[2, 7, 5, 8, 9, 12, 6]\n",
      "[2, 7, 5, 8, 9, 6, 12]\n",
      "2\n",
      "[2, 5, 7, 8, 9, 6, 12]\n",
      "[2, 5, 7, 8, 6, 9, 12]\n",
      "3\n",
      "[2, 5, 7, 6, 8, 9, 12]\n",
      "4\n",
      "[2, 5, 6, 7, 8, 9, 12]\n",
      "5\n",
      "[2, 5, 6, 7, 8, 9, 12]\n"
     ]
    }
   ],
   "source": [
    "\n",
    "\n",
    "def bubble_sort(a_list):\n",
    "    isSorted = False\n",
    "    passes = 0\n",
    "    while not isSorted:\n",
    "        passes += 1\n",
    "        print(passes)\n",
    "        isSorted = True\n",
    "        for i in range(len(a_list) - 1):\n",
    "            if a_list[i] > a_list[i+1]:\n",
    "                swap(i, i+1, a_list)\n",
    "                isSorted = False\n",
    "                print(a_list)\n",
    "    return a_list\n",
    "\n",
    "\n",
    "\n",
    "\n",
    "\n",
    "def swap(i, j, a_list):\n",
    "    a_list[i], a_list[j] = a_list[j], a_list[i]\n",
    "    return a_list\n",
    "\n",
    "test_list = [2,7,12,5,8,9,6]\n",
    "print(bubble_sort(test_list))"
   ]
  },
  {
   "cell_type": "markdown",
   "metadata": {},
   "source": [
    "##### Insertion Sort\n",
    "\n",
    "Worst Case: O(n^2) time - O(1)space"
   ]
  },
  {
   "cell_type": "code",
   "execution_count": 27,
   "metadata": {},
   "outputs": [
    {
     "name": "stdout",
     "output_type": "stream",
     "text": [
      "1\n",
      "2\n",
      "3\n",
      "[2, 7, 12, 5, 8, 9, 6]\n",
      "[2, 7, 5, 12, 8, 9, 6]\n",
      "4\n",
      "[2, 5, 7, 12, 8, 9, 6]\n",
      "5\n",
      "[2, 5, 7, 8, 12, 9, 6]\n",
      "6\n",
      "[2, 5, 7, 8, 9, 12, 6]\n",
      "[2, 5, 7, 8, 9, 6, 12]\n",
      "[2, 5, 7, 8, 6, 9, 12]\n",
      "[2, 5, 7, 6, 8, 9, 12]\n",
      "[2, 5, 6, 7, 8, 9, 12]\n"
     ]
    }
   ],
   "source": [
    "def insertionsSort(a_list):\n",
    "    for i in range(1, len(a_list)):\n",
    "        print(i)\n",
    "        while i > 0 and a_list[i] < a_list[i - 1]:\n",
    "            print(a_list)\n",
    "            swap(i, i - 1, a_list)\n",
    "            i -= 1\n",
    "    return a_list\n",
    "    \n",
    "def swap(i, j, a_list):\n",
    "    a_list[i], a_list[j] = a_list[j], a_list[i]\n",
    "    return a_list\n",
    "\n",
    "test_list = [2,7,12,5,8,9,6]\n",
    "\n",
    "print(insertionsSort(test_list))"
   ]
  },
  {
   "cell_type": "markdown",
   "metadata": {},
   "source": [
    "## Merge Sort"
   ]
  },
  {
   "cell_type": "markdown",
   "metadata": {},
   "source": [
    "#### How it Works"
   ]
  },
  {
   "cell_type": "code",
   "execution_count": 35,
   "metadata": {},
   "outputs": [
    {
     "name": "stdout",
     "output_type": "stream",
     "text": [
      "[1, 2, 3, 4, 7, 10, 11, 12]\n"
     ]
    }
   ],
   "source": [
    "def mergeSort(a_list):\n",
    "    if len(a_list) > 1:\n",
    "        middle = len(a_list) // 2\n",
    "        left_half = a_list[:middle]\n",
    "        right_half = a_list[middle:]\n",
    "\n",
    "        mergeSort(left_half)\n",
    "        mergeSort(right_half)\n",
    "        \n",
    "        i = 0 \n",
    "        j = 0\n",
    "        k = 0\n",
    "\n",
    "        while i <len(left_half) and j <len(right_half):\n",
    "            if left_half[i] < right_half[j]:\n",
    "                a_list[k] = left_half[i]\n",
    "                i += 1\n",
    "            else:\n",
    "                a_list[k] = right_half[j]\n",
    "                j += 1\n",
    "            k += 1\n",
    "\n",
    "        while i < len(left_half):\n",
    "                a_list[k] = left_half[i]\n",
    "                i += 1\n",
    "                k += 1\n",
    "        while j < len(right_half):\n",
    "                a_list[k] = right_half[j]\n",
    "                j += 1\n",
    "                k += 1\n",
    "\n",
    "    return a_list\n",
    "print(mergeSort([2,7,10,11,3,1,4,12]))"
   ]
  },
  {
   "cell_type": "markdown",
   "metadata": {},
   "source": [
    "# Binary Search\n",
    "\n",
    "The Binary Search algorithm works by finding the number in the middle of a given array and comparing it to the target. Given that the array is sorted\n",
    "\n",
    "* The worst case run time for this algorithm is `O(log(n))`"
   ]
  },
  {
   "cell_type": "code",
   "execution_count": 38,
   "metadata": {},
   "outputs": [
    {
     "data": {
      "text/plain": [
       "'Found 33 at index 3'"
      ]
     },
     "execution_count": 38,
     "metadata": {},
     "output_type": "execute_result"
    }
   ],
   "source": [
    "def binarySearch(a_list, target):\n",
    "    left = 0\n",
    "    right = len(a_list)\n",
    "    while left <= right:\n",
    "        middle = (left + right) // 2\n",
    "        potential_match = a_list[middle]\n",
    "        if target == potential_match:\n",
    "            return f'Found {target} at index {middle}'\n",
    "        elif target < potential_match:\n",
    "            right = middle - 1\n",
    "        else:\n",
    "            left = middle + 1\n",
    "    return \"Target not found\"\n",
    "\n",
    "binarySearch([0, 1, 21, 33, 45, 45, 61, 71, 72, 73], 33)"
   ]
  },
  {
   "cell_type": "markdown",
   "metadata": {},
   "source": [
    "# Exercises"
   ]
  },
  {
   "cell_type": "markdown",
   "metadata": {},
   "source": [
    "### Exercise #1 <br>\n",
    "<p>Reverse the list below in-place using an in-place algorithm.<br>For extra credit: Reverse the strings at the same time.</p>"
   ]
  },
  {
   "cell_type": "code",
   "execution_count": 2,
   "metadata": {},
   "outputs": [
    {
     "name": "stdout",
     "output_type": "stream",
     "text": [
      "['.', 'ecnetnes', 'a', 'si', 'siht']\n"
     ]
    }
   ],
   "source": [
    "words = ['this' , 'is', 'a', 'sentence', '.']\n",
    "\n",
    "def reverse_words(words):\n",
    "    left = 0\n",
    "    right = len(words) - 1\n",
    "    while left <= right:\n",
    "        words[left], words[right] = words[right][::-1], words[left][::-1]\n",
    "        left += 1\n",
    "        right -= 1\n",
    "    return words\n",
    "\n",
    "print(reverse_words(words))"
   ]
  },
  {
   "cell_type": "markdown",
   "metadata": {},
   "source": [
    "### Exercise #2 <br>\n",
    "<p>Create a function that counts how many distinct words are in the string below, then outputs a dictionary with the words as the key and the value as the amount of times that word appears in the string.<br>Should output:<br>{'a': 5,<br>\n",
    " 'abstract': 1,<br>\n",
    " 'an': 3,<br>\n",
    " 'array': 2, ... etc...</p>"
   ]
  },
  {
   "cell_type": "code",
   "execution_count": 1,
   "metadata": {},
   "outputs": [
    {
     "name": "stdout",
     "output_type": "stream",
     "text": [
      "{'In': 1, 'computing,': 1, 'a': 4, 'hash': 4, 'table': 2, 'map': 2, 'is': 1, 'data': 2, 'structure': 2, 'which': 2, 'implements': 1, 'an': 3, 'associative': 1, 'a_list': 2, 'abstract': 1, 'type,': 1, 'that': 1, 'can': 2, 'keys': 1, 'to': 2, 'values.': 1, 'A': 1, 'uses': 1, 'function': 1, 'compute': 1, 'index': 1, 'into': 1, 'of': 1, 'buckets': 1, 'or': 1, 'slots': 1, 'from': 1, 'the': 1, 'desired': 1, 'value': 1, 'be': 1, 'found': 1}\n"
     ]
    }
   ],
   "source": [
    "a_text = 'In computing, a hash table hash map is a data structure which implements an associative a_list abstract data type, a structure that can map keys to values. A hash table uses a hash function to compute an index into an a_list of buckets or slots from which the desired value can be found'\n",
    "\n",
    "def word_count(text):\n",
    "    word_list = text.split()\n",
    "    words = {}\n",
    "    for word in word_list:\n",
    "        if word in words:\n",
    "            words[word] += 1\n",
    "        else:\n",
    "            words[word] = 1\n",
    "    return words\n",
    "\n",
    "print(word_count(a_text))"
   ]
  },
  {
   "cell_type": "markdown",
   "metadata": {},
   "source": [
    "## Exercise #3\n",
    "\n",
    "Write a program to implement a Linear Search Algorithm. Also in a comment, write the Time Complexity of the following algorithm.\n",
    "\n",
    "#### Hint: Linear Searching will require searching a list for a given number. "
   ]
  },
  {
   "cell_type": "code",
   "execution_count": null,
   "metadata": {},
   "outputs": [],
   "source": [
    "# Didn't know how to do this question."
   ]
  }
 ],
 "metadata": {
  "kernelspec": {
   "display_name": "Python 3",
   "language": "python",
   "name": "python3"
  },
  "language_info": {
   "codemirror_mode": {
    "name": "ipython",
    "version": 3
   },
   "file_extension": ".py",
   "mimetype": "text/x-python",
   "name": "python",
   "nbconvert_exporter": "python",
   "pygments_lexer": "ipython3",
   "version": "3.10.10"
  },
  "vscode": {
   "interpreter": {
    "hash": "efd71c79c7a8ed7e2e6ea7880ca39791cb24c303d26270a10635bc4d8604a30a"
   }
  }
 },
 "nbformat": 4,
 "nbformat_minor": 2
}
